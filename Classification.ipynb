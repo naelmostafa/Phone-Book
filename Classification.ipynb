{
  "nbformat": 4,
  "nbformat_minor": 0,
  "metadata": {
    "colab": {
      "name": "Classification.ipynb",
      "provenance": [],
      "authorship_tag": "ABX9TyPO8bHDrBtVt2M2ijy3+3dj",
      "include_colab_link": true
    },
    "kernelspec": {
      "name": "python3",
      "display_name": "Python 3"
    },
    "language_info": {
      "name": "python"
    }
  },
  "cells": [
    {
      "cell_type": "markdown",
      "metadata": {
        "id": "view-in-github",
        "colab_type": "text"
      },
      "source": [
        "<a href=\"https://colab.research.google.com/github/naelmostafa/Phone-Book/blob/main/Classification.ipynb\" target=\"_parent\"><img src=\"https://colab.research.google.com/assets/colab-badge.svg\" alt=\"Open In Colab\"/></a>"
      ]
    },
    {
      "cell_type": "markdown",
      "source": [
        "# Input Processing\n",
        "\n",
        "*   Imports\n",
        "*   Read data_set\n",
        "*   Encoding\n",
        "*   Balancing Data_set (downSampling)\n",
        "*   Extract features and Labels\n",
        "*   spliting\n",
        "*   Scaling\n",
        "\n"
      ],
      "metadata": {
        "id": "HRcmB05FWuLv"
      }
    },
    {
      "cell_type": "markdown",
      "source": [
        "Imports\n",
        "---"
      ],
      "metadata": {
        "id": "UwnhlTDpT3_h"
      }
    },
    {
      "cell_type": "code",
      "execution_count": 5,
      "metadata": {
        "id": "YPIIhqmq_rLb"
      },
      "outputs": [],
      "source": [
        "import pandas as pd\n",
        "import numpy as np\n",
        "from sklearn.model_selection import train_test_split\n",
        "from sklearn.preprocessing import LabelEncoder\n",
        "import sklearn\n",
        "from sklearn.preprocessing import StandardScaler"
      ]
    },
    {
      "cell_type": "markdown",
      "source": [
        "Read data set and assign header names\n",
        "---"
      ],
      "metadata": {
        "id": "fQ5SMRg0TCoz"
      }
    },
    {
      "cell_type": "code",
      "source": [
        "name = [\"fLength\", \"fWidth\", \"fSize\", \"fConc\", \"fConc1\", \"fAsym\", \"fM3Long\", \"fM3Trans\", \"fAlpha\", \"fDist\", \"class\"]\n",
        "data_set = pd.read_csv(\"magic04.data\", header=None, names=name)"
      ],
      "metadata": {
        "id": "VouaMvn5AwWn"
      },
      "execution_count": 6,
      "outputs": []
    },
    {
      "cell_type": "markdown",
      "source": [
        "Encoding categorical Labels\n",
        "---\n",
        "G = 0\n",
        "H = 1\n",
        "\n"
      ],
      "metadata": {
        "id": "B0DaV9lwTYKl"
      }
    },
    {
      "cell_type": "code",
      "source": [
        "le = LabelEncoder()\n",
        "data_set[\"class\"] = le.fit_transform(data_set[\"class\"])"
      ],
      "metadata": {
        "id": "QU4KNFRjTpcO"
      },
      "execution_count": 7,
      "outputs": []
    },
    {
      "cell_type": "markdown",
      "source": [
        "Balancing Data_set\n",
        "---\n",
        "1.   Separate classes\n",
        "2.   DownSampling to majority class"
      ],
      "metadata": {
        "id": "_e0ZecEyULeS"
      }
    },
    {
      "cell_type": "code",
      "source": [
        "data_g = data_set.loc[data_set[\"class\"] == 0]\n",
        "data_h = data_set.loc[data_set[\"class\"] == 1]"
      ],
      "metadata": {
        "id": "EdWxJj0cUGKz"
      },
      "execution_count": 8,
      "outputs": []
    },
    {
      "cell_type": "code",
      "source": [
        "data_g_down = sklearn.utils.resample(data_g, replace=False, n_samples=len(data_h), random_state=123)\n",
        "data_g_down.reset_index(drop=True, inplace=True)\n",
        "data_h.reset_index(drop=True, inplace=True)"
      ],
      "metadata": {
        "id": "xwgN66EkUKwV"
      },
      "execution_count": 9,
      "outputs": []
    },
    {
      "cell_type": "markdown",
      "source": [
        "Get Features and Labels\n",
        "---"
      ],
      "metadata": {
        "id": "7OKIscalU7am"
      }
    },
    {
      "cell_type": "code",
      "source": [
        "features_g = data_g_down.iloc[:, :-1].values\n",
        "labels_g = data_g_down.iloc[:, -1].values\n",
        "\n",
        "features_h = data_h.iloc[:, :-1].values\n",
        "labels_h = data_h.iloc[:, -1].values"
      ],
      "metadata": {
        "id": "slU9n5zSU8Q9"
      },
      "execution_count": 10,
      "outputs": []
    },
    {
      "cell_type": "markdown",
      "source": [
        "Make balanced Splits from all classes\n",
        "---"
      ],
      "metadata": {
        "id": "pHuj49WgVNha"
      }
    },
    {
      "cell_type": "code",
      "source": [
        "train_features_g, test_features_g, train_labels_g, test_labels_g = train_test_split(features_g, labels_g,\n",
        "                                                                                    test_size=0.3,\n",
        "                                                                                    random_state=42)\n",
        "train_features_h, test_features_h, train_labels_h, test_labels_h = train_test_split(features_h, labels_h, test_size=0.3,\n",
        "                                                                                    random_state=42)\n",
        "\n",
        "train_features = np.concatenate([train_features_g, train_features_h])\n",
        "train_labels = np.concatenate([train_labels_g, train_labels_h])\n",
        "\n",
        "test_features = np.concatenate([test_features_g, test_features_h])\n",
        "test_labels = np.concatenate([test_labels_g, test_labels_h])"
      ],
      "metadata": {
        "id": "HSeOj-OUVM7q"
      },
      "execution_count": 11,
      "outputs": []
    },
    {
      "cell_type": "markdown",
      "source": [
        "Scaling Features\n",
        "---"
      ],
      "metadata": {
        "id": "VYpf6XJSWDV9"
      }
    },
    {
      "cell_type": "code",
      "source": [
        "sc = StandardScaler()\n",
        "train_features = sc.fit_transform(train_features)\n",
        "test_features = sc.transform(test_features)"
      ],
      "metadata": {
        "id": "OPWWBe7QWD0_"
      },
      "execution_count": 12,
      "outputs": []
    },
    {
      "cell_type": "markdown",
      "source": [
        "# Creating Models and training Function"
      ],
      "metadata": {
        "id": "3mBJONoEX6HT"
      }
    },
    {
      "cell_type": "markdown",
      "source": [
        "Imports\n",
        "---"
      ],
      "metadata": {
        "id": "PC6EidtnYmkA"
      }
    },
    {
      "cell_type": "code",
      "source": [
        "from sklearn.model_selection import cross_val_score, StratifiedKFold\n",
        "from sklearn.tree import DecisionTreeClassifier\n",
        "from sklearn.neighbors import KNeighborsClassifier\n",
        "from sklearn.naive_bayes import GaussianNB\n",
        "from sklearn.ensemble import AdaBoostClassifier\n",
        "from sklearn.ensemble import RandomForestClassifier\n",
        "from sklearn.metrics import confusion_matrix, accuracy_score\n",
        "import matplotlib.pyplot as plt\n",
        "import time"
      ],
      "metadata": {
        "id": "yh02v7kFYfQr"
      },
      "execution_count": 16,
      "outputs": []
    },
    {
      "cell_type": "markdown",
      "source": [
        "Result Format and Modeling functions\n",
        "---"
      ],
      "metadata": {
        "id": "e7JVlNoTYqit"
      }
    },
    {
      "cell_type": "code",
      "source": [
        "def results_format(classifier_name, train_time, prediction_time, accuracy, precision, sensitivity, specificity,\n",
        "                   f1_score, cm, tuning_parameter=None):\n",
        "    print(classifier_name + \": \")\n",
        "    print(\"Confusion Matrix : \")\n",
        "    print(cm)\n",
        "    print(f\"Training time= {round(train_time, 6)} s\")\n",
        "    print(f\"Prediction_time= {round(prediction_time, 6)} s\")\n",
        "    print(f\"Accuracy = {accuracy}\")\n",
        "    print(f\"Precision = {precision}\")\n",
        "    print(f\"Sensitivity = {sensitivity}\")\n",
        "    print(f\"Specificity = {specificity}\")\n",
        "    print(f\"F score = {f1_score}\")\n",
        "    if tuning_parameter != None:\n",
        "        print(f\"Tuning parameter = {tuning_parameter}\")\n",
        "    print(\"-------------------------------------------------------------------------------------\")\n",
        "\n",
        "def modeling(clf, classifier_name, tuning_parameter=None):\n",
        "    t1 = time.time()\n",
        "    clf.fit(train_features, train_labels)\n",
        "    t2 = time.time()\n",
        "    train_time = t2 - t1\n",
        "\n",
        "    t1 = time.time()\n",
        "    predictions = clf.predict(test_features)\n",
        "    t2 = time.time()\n",
        "    prediction_time = t2 - t1\n",
        "\n",
        "    \"\"\"\n",
        "    CM = | TN FP |\n",
        "         | FN TP |\n",
        "    \"\"\"\n",
        "    cm = confusion_matrix(test_labels, predictions)\n",
        "    accuracy = accuracy_score(predictions, test_labels)\n",
        "\n",
        "    # precision = (TP) / (TP + FP)\n",
        "    precision = (cm[1][1]) / (cm[1][1] + cm[0][1])\n",
        "\n",
        "    # sensitivity = (TP) / (TP + FN)\n",
        "    sensitivity = (cm[1][1]) / (cm[1][1] + cm[1][0])\n",
        "\n",
        "    # specificity = (TN) / (TN + FP)\n",
        "    specificity = (cm[0][0]) / (cm[0][0] + cm[0][1])\n",
        "\n",
        "    # f1_score = 2 * (precision * recall) / (precision + recall)\n",
        "    f1_score = 2 * (precision * sensitivity) / (precision + sensitivity)\n",
        "\n",
        "    results_format(classifier_name, train_time, prediction_time, accuracy, precision, sensitivity, specificity,\n",
        "                   f1_score,\n",
        "                   cm, tuning_parameter)\n",
        "    \n",
        "def plot_tuning_parameter(x, y, title, x_label, y_label):\n",
        "   plt.title(title, fontsize='16')  # title\n",
        "   plt.plot(x, y)  # plot the points\n",
        "   plt.xlabel(x_label, fontsize='13')  # adds a label in the x axis\n",
        "   plt.ylabel(y_label, fontsize='13')  # adds a label in the y axis\n",
        "   plt.grid()  # shows a grid under the plot\n",
        "   plt.show()"
      ],
      "metadata": {
        "id": "Wv6dPV2JYOFs"
      },
      "execution_count": 17,
      "outputs": []
    },
    {
      "cell_type": "markdown",
      "source": [
        "Decision Tree\n",
        "---"
      ],
      "metadata": {
        "id": "n8oDlXSzbMK1"
      }
    },
    {
      "cell_type": "code",
      "source": [
        "def decision_tree():\n",
        "    clf = DecisionTreeClassifier()\n",
        "    modeling(clf, \"Decision Tree\")"
      ],
      "metadata": {
        "id": "_OhE4vMqZ6uB"
      },
      "execution_count": 18,
      "outputs": []
    },
    {
      "cell_type": "markdown",
      "source": [
        "Naive Bayes\n",
        "---"
      ],
      "metadata": {
        "id": "-V2mTXMabSDu"
      }
    },
    {
      "cell_type": "code",
      "source": [
        "def naive_bayes():\n",
        "    clf = GaussianNB()\n",
        "    modeling(clf, \"Naive Bayes\")"
      ],
      "metadata": {
        "id": "ow4SQ4mqaAtV"
      },
      "execution_count": 19,
      "outputs": []
    },
    {
      "cell_type": "markdown",
      "source": [
        "KNN\n",
        "---"
      ],
      "metadata": {
        "id": "d8yJ215ybXyR"
      }
    },
    {
      "cell_type": "code",
      "source": [
        "def get_best_k():\n",
        "    k_range = range(1, 20)\n",
        "    k_scores = []\n",
        "    skf = StratifiedKFold(n_splits=7)\n",
        "    for k in k_range:\n",
        "        clf = KNeighborsClassifier(n_neighbors=k)\n",
        "        scores = cross_val_score(clf, train_features, train_labels, cv=skf, scoring='accuracy')\n",
        "        k_scores.append(scores.mean())\n",
        "    plot_tuning_parameter(k_range, k_scores, \"K for K-Nearest Neighbor\", \"K-values\", \"Mean-Accuracy\")\n",
        "    return (k_scores.index(max(k_scores))) + k_range[0]\n",
        "\n",
        "def knn():\n",
        "  k = get_best_k()\n",
        "  clf = KNeighborsClassifier(n_neighbors=k)\n",
        "  modeling(clf, \"K-Nearest Neighbors\", k)"
      ],
      "metadata": {
        "id": "E0XfGmdwaFbS"
      },
      "execution_count": 20,
      "outputs": []
    },
    {
      "cell_type": "markdown",
      "source": [
        "Ada Boost\n",
        "---"
      ],
      "metadata": {
        "id": "9wjKuamfbcTP"
      }
    },
    {
      "cell_type": "code",
      "source": [
        "def get_best_n_estimators_ab():\n",
        "    # default = 50\n",
        "    n_range = range(50, 70)\n",
        "    n_scores = []\n",
        "    skf = StratifiedKFold(n_splits=7)\n",
        "    for n in n_range:\n",
        "        clf = AdaBoostClassifier(n_estimators=n)\n",
        "        scores = cross_val_score(clf, train_features, train_labels, cv=skf, scoring='accuracy')\n",
        "        n_scores.append(scores.mean())\n",
        "    plot_tuning_parameter(n_range, n_scores, \"N_Estimators for AdaBoost\", \"n-values\", \"Mean-Accuracy\")\n",
        "    return (n_scores.index(max(n_scores))) + n_range[0]\n",
        "\n",
        "def ada_boost():\n",
        "   estimators = get_best_n_estimators_ab()\n",
        "   clf = AdaBoostClassifier(n_estimators=estimators)\n",
        "   modeling(clf, \"AdaBoost\", estimators)\n",
        "  "
      ],
      "metadata": {
        "id": "9PeAYJtFapRb"
      },
      "execution_count": 21,
      "outputs": []
    },
    {
      "cell_type": "markdown",
      "source": [
        "Random Forest\n",
        "---"
      ],
      "metadata": {
        "id": "kAurlIISbh0I"
      }
    },
    {
      "cell_type": "code",
      "source": [
        "def get_best_n_estimators_rf():\n",
        "    # default = 100\n",
        "    n_range = range(70, 100)\n",
        "    n_scores = []\n",
        "    skf = StratifiedKFold(n_splits=7)\n",
        "    for n in n_range:\n",
        "        clf = RandomForestClassifier(n_estimators=n)\n",
        "        scores = cross_val_score(clf, train_features, train_labels, cv=skf, scoring='accuracy')\n",
        "        n_scores.append(scores.mean())\n",
        "    plot_tuning_parameter(n_range, n_scores, \"N_Estimators for Random Forest\", \"n-values\", \"Mean-Accuracy\")\n",
        "    return (n_scores.index(max(n_scores))) + n_range[0]\n",
        "\n",
        "def random_forests():\n",
        "    estimators = get_best_n_estimators_rf()\n",
        "    clf = RandomForestClassifier(n_estimators=estimators)\n",
        "    modeling(clf, \"Random Forests\", estimators)  "
      ],
      "metadata": {
        "id": "RalifFNCaXkk"
      },
      "execution_count": 22,
      "outputs": []
    },
    {
      "cell_type": "markdown",
      "source": [
        "# Main"
      ],
      "metadata": {
        "id": "9rtREk8Hb35z"
      }
    },
    {
      "cell_type": "code",
      "source": [
        "naive_bayes()\n",
        "knn()\n",
        "decision_tree()\n",
        "ada_boost()\n",
        "random_forests()"
      ],
      "metadata": {
        "colab": {
          "base_uri": "https://localhost:8080/",
          "height": 1000
        },
        "id": "Gj9KJWfsb_2y",
        "outputId": "60ff5ce7-ceab-4210-c343-3364bcb9bbbb"
      },
      "execution_count": 23,
      "outputs": [
        {
          "output_type": "stream",
          "name": "stdout",
          "text": [
            "Naive Bayes: \n",
            "Confusion Matrix : \n",
            "[[1813  194]\n",
            " [1156  851]]\n",
            "Training time= 0.006528 s\n",
            "Prediction_time= 0.005012 s\n",
            "Accuracy = 0.6636771300448431\n",
            "Precision = 0.8143540669856459\n",
            "Sensitivity = 0.4240159441953164\n",
            "Specificity = 0.9033383158943697\n",
            "F score = 0.5576671035386632\n",
            "-------------------------------------------------------------------------------------\n"
          ]
        },
        {
          "output_type": "display_data",
          "data": {
            "image/png": "[encoded data removed]",
            "text/plain": [
              "<Figure size 432x288 with 1 Axes>"
            ]
          },
          "metadata": {
            "needs_background": "light"
          }
        },
        {
          "output_type": "stream",
          "name": "stdout",
          "text": [
            "K-Nearest Neighbors: \n",
            "Confusion Matrix : \n",
            "[[1748  259]\n",
            " [ 534 1473]]\n",
            "Training time= 0.019654 s\n",
            "Prediction_time= 0.285663 s\n",
            "Accuracy = 0.8024414549078226\n",
            "Precision = 0.8504618937644342\n",
            "Sensitivity = 0.7339312406576981\n",
            "Specificity = 0.8709516691579472\n",
            "F score = 0.7879112062048677\n",
            "Tuning parameter = 5\n",
            "-------------------------------------------------------------------------------------\n",
            "Decision Tree: \n",
            "Confusion Matrix : \n",
            "[[1605  402]\n",
            " [ 416 1591]]\n",
            "Training time= 0.157782 s\n",
            "Prediction_time= 0.000945 s\n",
            "Accuracy = 0.7962132536123567\n",
            "Precision = 0.7982940291018565\n",
            "Sensitivity = 0.7927254608868959\n",
            "Specificity = 0.7997010463378177\n",
            "F score = 0.7955\n",
            "-------------------------------------------------------------------------------------\n"
          ]
        },
        {
          "output_type": "display_data",
          "data": {
            "image/png": "[encoded data removed]",
            "text/plain": [
              "<Figure size 432x288 with 1 Axes>"
            ]
          },
          "metadata": {
            "needs_background": "light"
          }
        },
        {
          "output_type": "stream",
          "name": "stdout",
          "text": [
            "AdaBoost: \n",
            "Confusion Matrix : \n",
            "[[1651  356]\n",
            " [ 365 1642]]\n",
            "Training time= 1.04494 s\n",
            "Prediction_time= 0.050648 s\n",
            "Accuracy = 0.8203786746387643\n",
            "Precision = 0.8218218218218218\n",
            "Sensitivity = 0.8181365221723966\n",
            "Specificity = 0.8226208271051321\n",
            "F score = 0.8199750312109864\n",
            "Tuning parameter = 60\n",
            "-------------------------------------------------------------------------------------\n"
          ]
        },
        {
          "output_type": "display_data",
          "data": {
            "image/png": "[encoded data removed]",
            "text/plain": [
              "<Figure size 432x288 with 1 Axes>"
            ]
          },
          "metadata": {
            "needs_background": "light"
          }
        },
        {
          "output_type": "stream",
          "name": "stdout",
          "text": [
            "Random Forests: \n",
            "Confusion Matrix : \n",
            "[[1770  237]\n",
            " [ 329 1678]]\n",
            "Training time= 2.819124 s\n",
            "Prediction_time= 0.071506 s\n",
            "Accuracy = 0.8589935226706528\n",
            "Precision = 0.8762402088772846\n",
            "Sensitivity = 0.8360737419033383\n",
            "Specificity = 0.8819133034379671\n",
            "F score = 0.8556858745537991\n",
            "Tuning parameter = 93\n",
            "-------------------------------------------------------------------------------------\n"
          ]
        }
      ]
    }
  ]
}